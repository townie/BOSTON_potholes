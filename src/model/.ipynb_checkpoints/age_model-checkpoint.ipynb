{
 "cells": [
  {
   "cell_type": "code",
   "execution_count": 1,
   "metadata": {
    "collapsed": false
   },
   "outputs": [],
   "source": [
    "import pandas as pd\n",
    "import pandas_profiling as pdp\n",
    "import matplotlib\n",
    "import matplotlib.pyplot as plt\n",
    "\n",
    "\n",
    "%matplotlib inline\n"
   ]
  },
  {
   "cell_type": "code",
   "execution_count": 2,
   "metadata": {
    "collapsed": true
   },
   "outputs": [],
   "source": [
    "df=pd.read_csv(\"../../data/311__Service_Requests.csv\", parse_dates=True, encoding='UTF-8', infer_datetime_format=True)"
   ]
  },
  {
   "cell_type": "code",
   "execution_count": 3,
   "metadata": {
    "collapsed": false
   },
   "outputs": [
    {
     "name": "stderr",
     "output_type": "stream",
     "text": [
      "/opt/conda/lib/python3.5/site-packages/ipykernel/__main__.py:3: SettingWithCopyWarning: \n",
      "A value is trying to be set on a copy of a slice from a DataFrame.\n",
      "Try using .loc[row_indexer,col_indexer] = value instead\n",
      "\n",
      "See the caveats in the documentation: http://pandas.pydata.org/pandas-docs/stable/indexing.html#indexing-view-versus-copy\n",
      "  app.launch_new_instance()\n",
      "/opt/conda/lib/python3.5/site-packages/ipykernel/__main__.py:4: SettingWithCopyWarning: \n",
      "A value is trying to be set on a copy of a slice from a DataFrame.\n",
      "Try using .loc[row_indexer,col_indexer] = value instead\n",
      "\n",
      "See the caveats in the documentation: http://pandas.pydata.org/pandas-docs/stable/indexing.html#indexing-view-versus-copy\n",
      "/opt/conda/lib/python3.5/site-packages/ipykernel/__main__.py:5: SettingWithCopyWarning: \n",
      "A value is trying to be set on a copy of a slice from a DataFrame.\n",
      "Try using .loc[row_indexer,col_indexer] = value instead\n",
      "\n",
      "See the caveats in the documentation: http://pandas.pydata.org/pandas-docs/stable/indexing.html#indexing-view-versus-copy\n"
     ]
    }
   ],
   "source": [
    "potdf = df.loc[df['TYPE'].str.contains('Pot')]\n",
    "\n",
    "potdf['age'] =  pd.to_datetime(potdf['CLOSED_DT']) - pd.to_datetime(potdf['OPEN_DT'])\n",
    "potdf['expected_age'] =  pd.to_datetime(potdf['TARGET_DT']) - pd.to_datetime(potdf['OPEN_DT'])\n",
    "potdf['performance'] = potdf['expected_age'] - potdf['age'] \n"
   ]
  },
  {
   "cell_type": "code",
   "execution_count": 4,
   "metadata": {
    "collapsed": false
   },
   "outputs": [
    {
     "name": "stderr",
     "output_type": "stream",
     "text": [
      "/opt/conda/lib/python3.5/site-packages/ipykernel/__main__.py:2: SettingWithCopyWarning: \n",
      "A value is trying to be set on a copy of a slice from a DataFrame.\n",
      "Try using .loc[row_indexer,col_indexer] = value instead\n",
      "\n",
      "See the caveats in the documentation: http://pandas.pydata.org/pandas-docs/stable/indexing.html#indexing-view-versus-copy\n",
      "  from ipykernel import kernelapp as app\n",
      "/opt/conda/lib/python3.5/site-packages/ipykernel/__main__.py:3: SettingWithCopyWarning: \n",
      "A value is trying to be set on a copy of a slice from a DataFrame.\n",
      "Try using .loc[row_indexer,col_indexer] = value instead\n",
      "\n",
      "See the caveats in the documentation: http://pandas.pydata.org/pandas-docs/stable/indexing.html#indexing-view-versus-copy\n",
      "  app.launch_new_instance()\n",
      "/opt/conda/lib/python3.5/site-packages/ipykernel/__main__.py:4: SettingWithCopyWarning: \n",
      "A value is trying to be set on a copy of a slice from a DataFrame.\n",
      "Try using .loc[row_indexer,col_indexer] = value instead\n",
      "\n",
      "See the caveats in the documentation: http://pandas.pydata.org/pandas-docs/stable/indexing.html#indexing-view-versus-copy\n"
     ]
    }
   ],
   "source": [
    "#remove closed claims\n",
    "potdf['age'] =potdf['age'].dropna()\n",
    "potdf['expected_age'] = potdf['expected_age'].fillna(0)\n",
    "potdf['performance'] = potdf['performance'].fillna(0)"
   ]
  },
  {
   "cell_type": "code",
   "execution_count": 5,
   "metadata": {
    "collapsed": false
   },
   "outputs": [
    {
     "name": "stderr",
     "output_type": "stream",
     "text": [
      "/opt/conda/lib/python3.5/site-packages/ipykernel/__main__.py:2: SettingWithCopyWarning: \n",
      "A value is trying to be set on a copy of a slice from a DataFrame.\n",
      "Try using .loc[row_indexer,col_indexer] = value instead\n",
      "\n",
      "See the caveats in the documentation: http://pandas.pydata.org/pandas-docs/stable/indexing.html#indexing-view-versus-copy\n",
      "  from ipykernel import kernelapp as app\n",
      "/opt/conda/lib/python3.5/site-packages/ipykernel/__main__.py:3: SettingWithCopyWarning: \n",
      "A value is trying to be set on a copy of a slice from a DataFrame.\n",
      "Try using .loc[row_indexer,col_indexer] = value instead\n",
      "\n",
      "See the caveats in the documentation: http://pandas.pydata.org/pandas-docs/stable/indexing.html#indexing-view-versus-copy\n",
      "  app.launch_new_instance()\n"
     ]
    }
   ],
   "source": [
    "closedpotdf = potdf['age'].dropna()\n",
    "potdf['age_in_days'] = closedpotdf.apply(lambda x: x.days if isinstance(x, pd.Timedelta) else 0)\n",
    "potdf['age_in_days'] = potdf['age_in_days'].dropna()# potdf['expected_age']"
   ]
  },
  {
   "cell_type": "code",
   "execution_count": null,
   "metadata": {
    "collapsed": false
   },
   "outputs": [
    {
     "name": "stdout",
     "output_type": "stream",
     "text": [
      "Index(['CASE_ENQUIRY_ID', 'OPEN_DT', 'CASE_TITLE', 'SUBJECT', 'REASON', 'TYPE',\n",
      "       'QUEUE', 'Department', 'fire_district', 'pwd_district',\n",
      "       'city_council_district', 'police_district', 'neighborhood', 'ward',\n",
      "       'precinct', 'LOCATION_ZIPCODE', 'Source', 'age', 'age_in_days'],\n",
      "      dtype='object')\n"
     ]
    },
    {
     "data": {
      "text/html": [
       "<div>\n",
       "<table border=\"1\" class=\"dataframe\">\n",
       "  <thead>\n",
       "    <tr style=\"text-align: right;\">\n",
       "      <th></th>\n",
       "      <th>CASE_ENQUIRY_ID</th>\n",
       "      <th>OPEN_DT</th>\n",
       "      <th>CASE_TITLE</th>\n",
       "      <th>SUBJECT</th>\n",
       "      <th>REASON</th>\n",
       "      <th>TYPE</th>\n",
       "      <th>QUEUE</th>\n",
       "      <th>Department</th>\n",
       "      <th>fire_district</th>\n",
       "      <th>pwd_district</th>\n",
       "      <th>city_council_district</th>\n",
       "      <th>police_district</th>\n",
       "      <th>neighborhood</th>\n",
       "      <th>ward</th>\n",
       "      <th>precinct</th>\n",
       "      <th>LOCATION_ZIPCODE</th>\n",
       "      <th>Source</th>\n",
       "      <th>age</th>\n",
       "      <th>age_in_days</th>\n",
       "    </tr>\n",
       "  </thead>\n",
       "  <tbody>\n",
       "    <tr>\n",
       "      <th>137</th>\n",
       "      <td>101001943833</td>\n",
       "      <td>11/02/2016 09:13:00 AM</td>\n",
       "      <td>Request for Pothole Repair</td>\n",
       "      <td>Public Works Department</td>\n",
       "      <td>Highway Maintenance</td>\n",
       "      <td>Request for Pothole Repair</td>\n",
       "      <td>PWDx_Highway Construction</td>\n",
       "      <td>PWDx</td>\n",
       "      <td>8.0</td>\n",
       "      <td>03</td>\n",
       "      <td>4.0</td>\n",
       "      <td>B3</td>\n",
       "      <td>Greater Mattapan</td>\n",
       "      <td>14</td>\n",
       "      <td>1402</td>\n",
       "      <td>NaN</td>\n",
       "      <td>Citizens Connect App</td>\n",
       "      <td>6 days 04:28:56</td>\n",
       "      <td>6.0</td>\n",
       "    </tr>\n",
       "    <tr>\n",
       "      <th>147</th>\n",
       "      <td>101001995955</td>\n",
       "      <td>01/25/2017 08:23:12 AM</td>\n",
       "      <td>Request for Pothole Repair</td>\n",
       "      <td>Public Works Department</td>\n",
       "      <td>Highway Maintenance</td>\n",
       "      <td>Request for Pothole Repair</td>\n",
       "      <td>PWDx_District 1C: Downtown</td>\n",
       "      <td>PWDx</td>\n",
       "      <td>4.0</td>\n",
       "      <td>1C</td>\n",
       "      <td>2.0</td>\n",
       "      <td>A1</td>\n",
       "      <td>Back Bay</td>\n",
       "      <td>Ward 5</td>\n",
       "      <td>0501</td>\n",
       "      <td>2116.0</td>\n",
       "      <td>Citizens Connect App</td>\n",
       "      <td>1 days 04:14:11</td>\n",
       "      <td>1.0</td>\n",
       "    </tr>\n",
       "    <tr>\n",
       "      <th>257</th>\n",
       "      <td>101002012985</td>\n",
       "      <td>02/14/2017 11:51:00 AM</td>\n",
       "      <td>Request for Pothole Repair</td>\n",
       "      <td>Public Works Department</td>\n",
       "      <td>Highway Maintenance</td>\n",
       "      <td>Request for Pothole Repair</td>\n",
       "      <td>BWSC_Pothole</td>\n",
       "      <td>BWSC</td>\n",
       "      <td>7.0</td>\n",
       "      <td>10B</td>\n",
       "      <td>9.0</td>\n",
       "      <td>D4</td>\n",
       "      <td>Roxbury</td>\n",
       "      <td>8</td>\n",
       "      <td>0803</td>\n",
       "      <td>NaN</td>\n",
       "      <td>Constituent Call</td>\n",
       "      <td>13 days 01:09:03</td>\n",
       "      <td>13.0</td>\n",
       "    </tr>\n",
       "    <tr>\n",
       "      <th>393</th>\n",
       "      <td>101001346580</td>\n",
       "      <td>04/01/2015 09:31:49 AM</td>\n",
       "      <td>Request for Pothole Repair</td>\n",
       "      <td>Public Works Department</td>\n",
       "      <td>Highway Maintenance</td>\n",
       "      <td>Request for Pothole Repair</td>\n",
       "      <td>PWDx_District 05: South Boston</td>\n",
       "      <td>PWDx</td>\n",
       "      <td>6.0</td>\n",
       "      <td>05</td>\n",
       "      <td>2.0</td>\n",
       "      <td>C6</td>\n",
       "      <td>South Boston / South Boston Waterfront</td>\n",
       "      <td>Ward 6</td>\n",
       "      <td>0601</td>\n",
       "      <td>2127.0</td>\n",
       "      <td>Citizens Connect App</td>\n",
       "      <td>0 days 01:58:55</td>\n",
       "      <td>0.0</td>\n",
       "    </tr>\n",
       "    <tr>\n",
       "      <th>413</th>\n",
       "      <td>101000367313</td>\n",
       "      <td>12/23/2011 08:09:26 AM</td>\n",
       "      <td>Request for Pothole Repair</td>\n",
       "      <td>Public Works Department</td>\n",
       "      <td>Highway Maintenance</td>\n",
       "      <td>Request for Pothole Repair</td>\n",
       "      <td>PWDx_District 10B: Roxbury</td>\n",
       "      <td>PWDx</td>\n",
       "      <td>7.0</td>\n",
       "      <td>10B</td>\n",
       "      <td>7.0</td>\n",
       "      <td>B2</td>\n",
       "      <td>Roxbury</td>\n",
       "      <td>Ward 9</td>\n",
       "      <td>0905</td>\n",
       "      <td>2119.0</td>\n",
       "      <td>Citizens Connect App</td>\n",
       "      <td>0 days 02:15:27</td>\n",
       "      <td>0.0</td>\n",
       "    </tr>\n",
       "  </tbody>\n",
       "</table>\n",
       "</div>"
      ],
      "text/plain": [
       "     CASE_ENQUIRY_ID                 OPEN_DT                  CASE_TITLE  \\\n",
       "137     101001943833  11/02/2016 09:13:00 AM  Request for Pothole Repair   \n",
       "147     101001995955  01/25/2017 08:23:12 AM  Request for Pothole Repair   \n",
       "257     101002012985  02/14/2017 11:51:00 AM  Request for Pothole Repair   \n",
       "393     101001346580  04/01/2015 09:31:49 AM  Request for Pothole Repair   \n",
       "413     101000367313  12/23/2011 08:09:26 AM  Request for Pothole Repair   \n",
       "\n",
       "                     SUBJECT               REASON                        TYPE  \\\n",
       "137  Public Works Department  Highway Maintenance  Request for Pothole Repair   \n",
       "147  Public Works Department  Highway Maintenance  Request for Pothole Repair   \n",
       "257  Public Works Department  Highway Maintenance  Request for Pothole Repair   \n",
       "393  Public Works Department  Highway Maintenance  Request for Pothole Repair   \n",
       "413  Public Works Department  Highway Maintenance  Request for Pothole Repair   \n",
       "\n",
       "                              QUEUE Department  fire_district pwd_district  \\\n",
       "137       PWDx_Highway Construction       PWDx            8.0           03   \n",
       "147      PWDx_District 1C: Downtown       PWDx            4.0           1C   \n",
       "257                    BWSC_Pothole       BWSC            7.0          10B   \n",
       "393  PWDx_District 05: South Boston       PWDx            6.0           05   \n",
       "413      PWDx_District 10B: Roxbury       PWDx            7.0          10B   \n",
       "\n",
       "     city_council_district police_district  \\\n",
       "137                    4.0              B3   \n",
       "147                    2.0              A1   \n",
       "257                    9.0              D4   \n",
       "393                    2.0              C6   \n",
       "413                    7.0              B2   \n",
       "\n",
       "                               neighborhood    ward precinct  \\\n",
       "137                        Greater Mattapan      14     1402   \n",
       "147                                Back Bay  Ward 5     0501   \n",
       "257                                 Roxbury       8     0803   \n",
       "393  South Boston / South Boston Waterfront  Ward 6     0601   \n",
       "413                                 Roxbury  Ward 9     0905   \n",
       "\n",
       "     LOCATION_ZIPCODE                Source              age  age_in_days  \n",
       "137               NaN  Citizens Connect App  6 days 04:28:56          6.0  \n",
       "147            2116.0  Citizens Connect App  1 days 04:14:11          1.0  \n",
       "257               NaN      Constituent Call 13 days 01:09:03         13.0  \n",
       "393            2127.0  Citizens Connect App  0 days 01:58:55          0.0  \n",
       "413            2119.0  Citizens Connect App  0 days 02:15:27          0.0  "
      ]
     },
     "execution_count": 6,
     "metadata": {},
     "output_type": "execute_result"
    }
   ],
   "source": [
    "potdf= potdf.drop('TARGET_DT', 1,errors='ignore')\n",
    "potdf= potdf.drop('expected_age', 1,errors='ignore')\n",
    "potdf= potdf.drop('CLOSED_DT', 1,errors='ignore')\n",
    "potdf= potdf.drop('CLOSURE_REASON', 1,errors='ignore')\n",
    "potdf= potdf.drop('Property_Type', 1,errors='ignore')\n",
    "potdf= potdf.drop('Property_ID', 1,errors='ignore')\n",
    "potdf= potdf.drop('LATITUDE', 1,errors='ignore')\n",
    "potdf= potdf.drop('LONGITUDE', 1,errors='ignore')\n",
    "potdf= potdf.drop('land_usage', 1,errors='ignore')\n",
    "potdf= potdf.drop('OnTime_Status', 1,errors='ignore')\n",
    "potdf= potdf.drop('Geocoded_Location', 1,errors='ignore')\n",
    "potdf= potdf.drop('SubmittedPhoto', 1,errors='ignore')\n",
    "potdf= potdf.drop('neighborhood_services_district', 1,errors='ignore')\n",
    "potdf= potdf.drop('performance', 1,errors='ignore')\n",
    "potdf= potdf.drop('Location', 1,errors='ignore') # TODO figure out better geo data usage\n",
    "\n",
    "potdf= potdf.drop('LOCATION_STREET_NAME', 1,errors='ignore') # TODO figure out better geo data usage\n",
    "potdf= potdf.drop('ClosedPhoto', 1,errors='ignore') # cleaned_df['ClosedPhoto'][147]\n",
    "\n",
    "\n",
    "\n",
    "non_employee_source = ['Citizens Connect App','Constituent Call', 'Self Service', 'Twitter']\n",
    "cleaned_df = potdf.loc[(potdf['CASE_STATUS'] == 'Closed' ) &(potdf['Source'].isin(non_employee_source)) ]\n",
    "\n",
    "\n",
    "cleaned_df= cleaned_df.drop('CASE_STATUS', 1, errors='ignore') #we dont need this anymore\n",
    "\n",
    "print(cleaned_df.columns)\n",
    "cleaned_df.head()"
   ]
  },
  {
   "cell_type": "code",
   "execution_count": null,
   "metadata": {
    "collapsed": false
   },
   "outputs": [],
   "source": [
    "import pandas_profiling as pdp\n",
    "cleaned_report = pdp.ProfileReport(cleaned_df)\n",
    "cleaned_report.to_file(outputfile=\"closed_potholes.html\")\n",
    "cleaned_report"
   ]
  },
  {
   "cell_type": "code",
   "execution_count": null,
   "metadata": {
    "collapsed": false
   },
   "outputs": [],
   "source": [
    "cleaned_df= cleaned_df.drop('SUBJECT', 1,errors='ignore')  #looks liked we missed SUBJECT\n",
    "cleaned_df.columns"
   ]
  },
  {
   "cell_type": "code",
   "execution_count": null,
   "metadata": {
    "collapsed": false
   },
   "outputs": [],
   "source": [
    "# Drop examples where age_in_days is greater than 174 (99% of all pots are closed in 174 days)\n",
    "cut_off =174\n",
    "cleaned_df = cleaned_df[cleaned_df[\"age_in_days\"] < cut_off]\n",
    "cleaned_df"
   ]
  },
  {
   "cell_type": "code",
   "execution_count": null,
   "metadata": {
    "collapsed": false
   },
   "outputs": [],
   "source": [
    "# import pandas as pd\n",
    "# import pandas_profiling as pdp\n",
    "# import numpy as np\n",
    "\n",
    "\n",
    "# size = 100000000\n",
    "# s = pd.Series(np.random.randn(size))\n",
    "\n",
    "# import radar\n",
    "# days = []\n",
    "# for _ in range(size):\n",
    "#     days.append(radar.random_datetime())\n",
    "\n",
    "# foo_df = pd.DataFrame({'f': days})\n",
    "# pdp.ProfileReport(foo_df)"
   ]
  },
  {
   "cell_type": "markdown",
   "metadata": {},
   "source": [
    "# Lets Prep our data"
   ]
  },
  {
   "cell_type": "code",
   "execution_count": null,
   "metadata": {
    "collapsed": true
   },
   "outputs": [],
   "source": [
    "['CASE_ENQUIRY_ID', 'OPEN_DT', 'CASE_TITLE', 'REASON', 'TYPE', 'QUEUE',\n",
    "       'Department', 'fire_district', 'pwd_district', 'city_council_district',\n",
    "       'police_district', 'neighborhood', 'ward', 'precinct',\n",
    "       'LOCATION_ZIPCODE', 'Source', 'age', 'age_in_days']\n",
    "\n",
    "label = 'age'\n",
    "\n",
    "categorials"
   ]
  },
  {
   "cell_type": "code",
   "execution_count": null,
   "metadata": {
    "collapsed": true
   },
   "outputs": [],
   "source": []
  }
 ],
 "metadata": {
  "kernelspec": {
   "display_name": "Python 3",
   "language": "python",
   "name": "python3"
  },
  "language_info": {
   "codemirror_mode": {
    "name": "ipython",
    "version": 3
   },
   "file_extension": ".py",
   "mimetype": "text/x-python",
   "name": "python",
   "nbconvert_exporter": "python",
   "pygments_lexer": "ipython3",
   "version": "3.5.2"
  }
 },
 "nbformat": 4,
 "nbformat_minor": 1
}
