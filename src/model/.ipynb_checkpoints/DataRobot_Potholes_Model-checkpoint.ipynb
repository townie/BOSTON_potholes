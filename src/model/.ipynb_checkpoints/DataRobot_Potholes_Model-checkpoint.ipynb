{
 "cells": [
  {
   "cell_type": "markdown",
   "metadata": {},
   "source": [
    "# Boston_Potholes_DataRobot_Model\n",
    "\n",
    "Boston Pothole age predictor"
   ]
  },
  {
   "cell_type": "code",
   "execution_count": 1,
   "metadata": {},
   "outputs": [
    {
     "name": "stdout",
     "output_type": "stream",
     "text": [
      "Requirement already satisfied (use --upgrade to upgrade): datarobot in /opt/conda/lib/python3.5/site-packages\n",
      "Requirement already satisfied (use --upgrade to upgrade): pyyaml>=3.11 in /opt/conda/lib/python3.5/site-packages (from datarobot)\n",
      "Requirement already satisfied (use --upgrade to upgrade): trafaret>=0.7 in /opt/conda/lib/python3.5/site-packages (from datarobot)\n",
      "Requirement already satisfied (use --upgrade to upgrade): requests-toolbelt>=0.6 in /opt/conda/lib/python3.5/site-packages (from datarobot)\n",
      "Requirement already satisfied (use --upgrade to upgrade): pandas>=0.15 in /opt/conda/lib/python3.5/site-packages (from datarobot)\n",
      "Requirement already satisfied (use --upgrade to upgrade): requests<3.0.0,>=2.0.1 in /opt/conda/lib/python3.5/site-packages (from requests-toolbelt>=0.6->datarobot)\n",
      "Requirement already satisfied (use --upgrade to upgrade): python-dateutil>=2 in /opt/conda/lib/python3.5/site-packages (from pandas>=0.15->datarobot)\n",
      "Requirement already satisfied (use --upgrade to upgrade): pytz>=2011k in /opt/conda/lib/python3.5/site-packages (from pandas>=0.15->datarobot)\n",
      "Requirement already satisfied (use --upgrade to upgrade): numpy>=1.7.0 in /opt/conda/lib/python3.5/site-packages (from pandas>=0.15->datarobot)\n",
      "Requirement already satisfied (use --upgrade to upgrade): six>=1.5 in /opt/conda/lib/python3.5/site-packages (from python-dateutil>=2->pandas>=0.15->datarobot)\n",
      "\u001b[33mYou are using pip version 8.1.2, however version 9.0.1 is available.\n",
      "You should consider upgrading via the 'pip install --upgrade pip' command.\u001b[0m\n"
     ]
    }
   ],
   "source": [
    "!pip install datarobot"
   ]
  },
  {
   "cell_type": "code",
   "execution_count": 2,
   "metadata": {
    "collapsed": true
   },
   "outputs": [],
   "source": [
    "import pandas as pd\n",
    "import pandas_profiling as pdp\n",
    "import matplotlib\n",
    "import matplotlib.pyplot as plt\n",
    "\n",
    "%matplotlib inline"
   ]
  },
  {
   "cell_type": "code",
   "execution_count": 3,
   "metadata": {},
   "outputs": [
    {
     "name": "stdout",
     "output_type": "stream",
     "text": [
      "Loaded 311 Service Requests RAW\n",
      "(Rows,Columns):(973993, 33)\n"
     ]
    }
   ],
   "source": [
    "df = pd.read_csv(\"../../data/311__Service_Requests.csv\", parse_dates=True, encoding='UTF-8', infer_datetime_format=True)\n",
    "print('Loaded 311 Service Requests RAW')\n",
    "print('(Rows,Columns):{}'.format(df.shape))"
   ]
  },
  {
   "cell_type": "code",
   "execution_count": 4,
   "metadata": {},
   "outputs": [
    {
     "data": {
      "text/html": [
       "<div>\n",
       "<table border=\"1\" class=\"dataframe\">\n",
       "  <thead>\n",
       "    <tr style=\"text-align: right;\">\n",
       "      <th></th>\n",
       "      <th>CASE_ENQUIRY_ID</th>\n",
       "      <th>OPEN_DT</th>\n",
       "      <th>TARGET_DT</th>\n",
       "      <th>CLOSED_DT</th>\n",
       "      <th>OnTime_Status</th>\n",
       "      <th>CASE_STATUS</th>\n",
       "      <th>CLOSURE_REASON</th>\n",
       "      <th>CASE_TITLE</th>\n",
       "      <th>SUBJECT</th>\n",
       "      <th>REASON</th>\n",
       "      <th>...</th>\n",
       "      <th>precinct</th>\n",
       "      <th>land_usage</th>\n",
       "      <th>LOCATION_STREET_NAME</th>\n",
       "      <th>LOCATION_ZIPCODE</th>\n",
       "      <th>Property_Type</th>\n",
       "      <th>Property_ID</th>\n",
       "      <th>LATITUDE</th>\n",
       "      <th>LONGITUDE</th>\n",
       "      <th>Source</th>\n",
       "      <th>Geocoded_Location</th>\n",
       "    </tr>\n",
       "  </thead>\n",
       "  <tbody>\n",
       "    <tr>\n",
       "      <th>0</th>\n",
       "      <td>101000493034</td>\n",
       "      <td>10/16/2012 02:45:25 PM</td>\n",
       "      <td>10/18/2012 02:45:24 PM</td>\n",
       "      <td>10/17/2012 07:36:59 AM</td>\n",
       "      <td>ONTIME</td>\n",
       "      <td>Closed</td>\n",
       "      <td>Case Resolved</td>\n",
       "      <td>Sticker Request</td>\n",
       "      <td>Public Works Department</td>\n",
       "      <td>Recycling</td>\n",
       "      <td>...</td>\n",
       "      <td>1602</td>\n",
       "      <td>NaN</td>\n",
       "      <td>36 Park St</td>\n",
       "      <td>2122.0</td>\n",
       "      <td>NaN</td>\n",
       "      <td>NaN</td>\n",
       "      <td>42.3011</td>\n",
       "      <td>-71.0543</td>\n",
       "      <td>Self Service</td>\n",
       "      <td>NaN</td>\n",
       "    </tr>\n",
       "  </tbody>\n",
       "</table>\n",
       "<p>1 rows × 33 columns</p>\n",
       "</div>"
      ],
      "text/plain": [
       "   CASE_ENQUIRY_ID                 OPEN_DT               TARGET_DT  \\\n",
       "0     101000493034  10/16/2012 02:45:25 PM  10/18/2012 02:45:24 PM   \n",
       "\n",
       "                CLOSED_DT OnTime_Status CASE_STATUS CLOSURE_REASON  \\\n",
       "0  10/17/2012 07:36:59 AM        ONTIME      Closed  Case Resolved   \n",
       "\n",
       "        CASE_TITLE                  SUBJECT     REASON        ...         \\\n",
       "0  Sticker Request  Public Works Department  Recycling        ...          \n",
       "\n",
       "  precinct land_usage LOCATION_STREET_NAME LOCATION_ZIPCODE Property_Type  \\\n",
       "0     1602        NaN           36 Park St           2122.0           NaN   \n",
       "\n",
       "  Property_ID  LATITUDE LONGITUDE        Source Geocoded_Location  \n",
       "0         NaN   42.3011  -71.0543  Self Service               NaN  \n",
       "\n",
       "[1 rows x 33 columns]"
      ]
     },
     "execution_count": 4,
     "metadata": {},
     "output_type": "execute_result"
    }
   ],
   "source": [
    "df.head(1)"
   ]
  },
  {
   "cell_type": "code",
   "execution_count": 5,
   "metadata": {},
   "outputs": [
    {
     "data": {
      "text/plain": [
       "(77677, 33)"
      ]
     },
     "execution_count": 5,
     "metadata": {},
     "output_type": "execute_result"
    }
   ],
   "source": [
    "# Find the PotHoles \n",
    "potdf = df.loc[df['TYPE'].str.contains('Pot')]\n",
    "potdf.shape"
   ]
  },
  {
   "cell_type": "code",
   "execution_count": 6,
   "metadata": {
    "collapsed": true
   },
   "outputs": [],
   "source": [
    "# Only care about potholes reported by Citizen sources\n",
    "non_employee_source = ['Citizens Connect App', 'Constituent Call', 'Self Service', 'Twitter']\n",
    "\n",
    "# Fixed Potholes Data Parsing for Citizens\n",
    "drdf = potdf.loc[(potdf['Source'].isin(non_employee_source)) ]\n",
    "\n"
   ]
  },
  {
   "cell_type": "code",
   "execution_count": 7,
   "metadata": {},
   "outputs": [
    {
     "data": {
      "text/plain": [
       "(20853, 22)"
      ]
     },
     "execution_count": 7,
     "metadata": {},
     "output_type": "execute_result"
    }
   ],
   "source": [
    "# Drop Unused Data Columns\n",
    "drdf= drdf.drop('TARGET_DT', 1,errors='ignore')\n",
    "drdf= drdf.drop('expected_age', 1,errors='ignore')\n",
    "drdf= drdf.drop('SubmittedPhoto', 1,errors='ignore')\n",
    "drdf= drdf.drop('ClosedPhoto', 1,errors='ignore') # cleaned_df['ClosedPhoto'][147]\n",
    "drdf= drdf.drop('age_in_days', 1,errors='ignore') # cleaned_df['ClosedPhoto'][147]\n",
    "drdf= drdf.drop('land_usage', 1,errors='ignore')\n",
    "drdf= drdf.drop('Property_Type', 1,errors='ignore')\n",
    "drdf= drdf.drop('Property_ID', 1,errors='ignore')\n",
    "drdf= drdf.drop('age', 1,errors='ignore')\n",
    "drdf= drdf.drop('performance', 1,errors='ignore')\n",
    "drdf= drdf.drop('LATITUDE', 1,errors='ignore')\n",
    "drdf= drdf.drop('LONGITUDE', 1,errors='ignore')\n",
    "drdf= drdf.drop('Geocoded_Location', 1,errors='ignore')\n",
    "\n",
    "# non_employee_source = ['Citizens Connect App','Constituent Call', 'Self Service', 'Twitter']\n",
    "# drdf = drdf.loc[(potdf['CASE_STATUS'] == 'Closed' ) &(potdf['Source'].isin(non_employee_source)) ]\n",
    "drdf = drdf.drop('CLOSURE_REASON',1,errors='ignore')\n",
    "\n",
    "drdf= drdf.drop('CASE_STATUS', 1, errors='ignore') #we dont need this anymore\n",
    "drdf.shape"
   ]
  },
  {
   "cell_type": "code",
   "execution_count": 8,
   "metadata": {},
   "outputs": [
    {
     "name": "stderr",
     "output_type": "stream",
     "text": [
      "/opt/conda/lib/python3.5/site-packages/ipykernel_launcher.py:9: SettingWithCopyWarning: \n",
      "A value is trying to be set on a copy of a slice from a DataFrame.\n",
      "Try using .loc[row_indexer,col_indexer] = value instead\n",
      "\n",
      "See the caveats in the documentation: http://pandas.pydata.org/pandas-docs/stable/indexing.html#indexing-view-versus-copy\n",
      "  if __name__ == '__main__':\n"
     ]
    }
   ],
   "source": [
    "# Compute Age\n",
    "\n",
    "def get_closed_age(df):\n",
    "    return pd.to_datetime(df['CLOSED_DT']) - pd.to_datetime(df['OPEN_DT'])\n",
    "\n",
    "def get_todays_age(df):\n",
    "    return pd.to_datetime(df['CLOSED_DT']) - pd.to_datetime(df['OPEN_DT'])\n",
    "\n",
    "potdf['age'] = get_closed_age(df)\n",
    "\n",
    "drdf= drdf.drop('CLOSED_DT', 1,errors='ignore')\n"
   ]
  },
  {
   "cell_type": "code",
   "execution_count": 9,
   "metadata": {
    "collapsed": true
   },
   "outputs": [],
   "source": [
    "# Make Label\n",
    "\n",
    "closedpotdf = potdf['age']\n",
    "drdf['age_in_days'] = closedpotdf.apply(lambda x: x.days if isinstance(x, pd.Timedelta) else 0)\n",
    "drdf['age_in_days'] = drdf['age_in_days'] #.dropna()# potdf['expected_age']\n",
    "\n",
    "drdf['age_in_hours'] = closedpotdf.apply(lambda x: int(x.to_pytimedelta().total_seconds() /60 /60 ) if isinstance(x, pd.Timedelta) else 0)\n",
    "drdf['age_in_hours'] = drdf['age_in_hours'] #.dropna()# potdf['expected_age']"
   ]
  },
  {
   "cell_type": "code",
   "execution_count": 10,
   "metadata": {
    "collapsed": true
   },
   "outputs": [],
   "source": [
    "drdf = drdf.loc[(potdf['CASE_STATUS'] == 'Closed' )] # filter out closed"
   ]
  },
  {
   "cell_type": "code",
   "execution_count": 11,
   "metadata": {
    "collapsed": true
   },
   "outputs": [],
   "source": [
    "# Regression: Age in Hours Label\n",
    "\n",
    "drdfHours = drdf.loc[(potdf['CASE_STATUS'] == 'Closed' )] # filter out closed\n",
    "drdf.head(10)\n",
    "drdf.to_csv('../../data/dr_potholes_hours.csv')"
   ]
  },
  {
   "cell_type": "code",
   "execution_count": 12,
   "metadata": {
    "collapsed": true
   },
   "outputs": [],
   "source": [
    "# Binary Age Classifier (24, 48, 72, 168 hours old)\n",
    "\n",
    "drdrAgeLabel = drdf.loc[(potdf['CASE_STATUS'] == 'Closed' )] # filter out closed\n",
    "drdrAgeLabel= drdrAgeLabel.drop('age', 1,errors='ignore')\n",
    "drdrAgeLabel= drdrAgeLabel.drop('age_in_days', 1,errors='ignore')\n",
    "\n",
    "age_thresholds = [24, 48, 72, 96, 120, 144, 168]\n",
    "\n",
    "for thresholds in age_thresholds:\n",
    "    drdrAgeLabel['fast_fix'] = drdf['age_in_hours'] <= thresholds\n",
    "    drdrAgeLabel= drdrAgeLabel.drop('age_in_hours', 1,errors='ignore')\n",
    "\n",
    "    drdrAgeLabel.to_csv('../../data/dr_potholes_{}hrs.csv'.format(thresholds))"
   ]
  },
  {
   "cell_type": "code",
   "execution_count": null,
   "metadata": {
    "collapsed": true
   },
   "outputs": [],
   "source": []
  },
  {
   "cell_type": "code",
   "execution_count": 46,
   "metadata": {},
   "outputs": [
    {
     "data": {
      "text/plain": [
       "<datarobot.rest.RESTClientObject at 0x7f11fe5419b0>"
      ]
     },
     "execution_count": 46,
     "metadata": {},
     "output_type": "execute_result"
    }
   ],
   "source": [
    "import datarobot as dr\n",
    "dr.Client(token='VAB03kNIRA4tyHqvuvm_sJPmhKu0LVqQ', endpoint='https://uniapp.datarobot.com/api/v2')"
   ]
  },
  {
   "cell_type": "code",
   "execution_count": 47,
   "metadata": {},
   "outputs": [
    {
     "data": {
      "text/plain": [
       "[Project(Pothole_Fixed_In_24hr?),\n",
       " Project(Pothole_24hr_fix_model),\n",
       " Project(PotholeFixer_24hrs_old),\n",
       " Project(PotholeFixer_24hrs_old),\n",
       " Project(Pothole_24hr_fix_model),\n",
       " Project(PotholeFixer_24hrs_old),\n",
       " Project(Pothole_24hr_fix_model),\n",
       " Project(168hrFix-v1 Boston Potholes),\n",
       " Project(72hrFix-v1 Boston Potholes),\n",
       " Project(48hrFix-v1 Boston Potholes),\n",
       " Project(24hrFix-v1 Boston Potholes),\n",
       " Project(pots-v2 Accurate Boston Potholes),\n",
       " Project(pots-v1 Boston Potholes Age In Hours),\n",
       " Project(10k_),\n",
       " Project(cars)]"
      ]
     },
     "execution_count": 47,
     "metadata": {},
     "output_type": "execute_result"
    }
   ],
   "source": [
    "dr.Project.list()"
   ]
  },
  {
   "cell_type": "code",
   "execution_count": null,
   "metadata": {},
   "outputs": [
    {
     "name": "stdout",
     "output_type": "stream",
     "text": [
      "24\n",
      "../../data/dr_potholes_24hrs.csv\n",
      "Pothole_Fixed_In_24hr?\n",
      "48\n",
      "../../data/dr_potholes_48hrs.csv\n",
      "Pothole_Fixed_In_48hr?\n"
     ]
    }
   ],
   "source": [
    "import time\n",
    "projects = []\n",
    "for threshold in age_thresholds:\n",
    "    print(threshold)\n",
    "    file = \"../../data/dr_potholes_{}hrs.csv\".format(threshold)\n",
    "    print(file)\n",
    "    name =\"Pothole_Fixed_In_{}hr?\".format(threshold)\n",
    "    print(name)\n",
    "    p = dr.Project.create(file, project_name=name)\n",
    "    p.set_target('fast_fix')\n",
    "    projects.append(p)"
   ]
  },
  {
   "cell_type": "code",
   "execution_count": null,
   "metadata": {},
   "outputs": [],
   "source": [
    "p.set_target('fast_fix')"
   ]
  },
  {
   "cell_type": "code",
   "execution_count": 22,
   "metadata": {},
   "outputs": [
    {
     "data": {
      "text/plain": [
       "{'response_cap': False, 'smart_downsampled': False}"
      ]
     },
     "execution_count": 22,
     "metadata": {},
     "output_type": "execute_result"
    }
   ],
   "source": [
    "p.advanced_options"
   ]
  },
  {
   "cell_type": "code",
   "execution_count": 43,
   "metadata": {},
   "outputs": [
    {
     "name": "stdout",
     "output_type": "stream",
     "text": [
      "../../data/dr_potholes_24hrs.csv\n",
      "PotholeFixer_24hrs_old\n"
     ]
    },
    {
     "ename": "ClientError",
     "evalue": "422 client error: {'errors': {'target': 'is required'}, 'message': 'Invalid field data'}",
     "output_type": "error",
     "traceback": [
      "\u001b[0;31m---------------------------------------------------------------------------\u001b[0m",
      "\u001b[0;31mClientError\u001b[0m                               Traceback (most recent call last)",
      "\u001b[0;32m<ipython-input-43-9f87e20637ed>\u001b[0m in \u001b[0;36m<module>\u001b[0;34m()\u001b[0m\n\u001b[1;32m      3\u001b[0m \u001b[0mname\u001b[0m \u001b[0;34m=\u001b[0m\u001b[0;34m\"PotholeFixer_{}hrs_old\"\u001b[0m\u001b[0;34m.\u001b[0m\u001b[0mformat\u001b[0m\u001b[0;34m(\u001b[0m\u001b[0;36m24\u001b[0m\u001b[0;34m)\u001b[0m\u001b[0;34m\u001b[0m\u001b[0m\n\u001b[1;32m      4\u001b[0m \u001b[0mprint\u001b[0m\u001b[0;34m(\u001b[0m\u001b[0mname\u001b[0m\u001b[0;34m)\u001b[0m\u001b[0;34m\u001b[0m\u001b[0m\n\u001b[0;32m----> 5\u001b[0;31m \u001b[0mp2\u001b[0m \u001b[0;34m=\u001b[0m \u001b[0mdr\u001b[0m\u001b[0;34m.\u001b[0m\u001b[0mProject\u001b[0m\u001b[0;34m.\u001b[0m\u001b[0mstart\u001b[0m\u001b[0;34m(\u001b[0m\u001b[0mfile\u001b[0m\u001b[0;34m,\u001b[0m \u001b[0;34m\"fast_fix\"\u001b[0m\u001b[0;34m,\u001b[0m \u001b[0mproject_name\u001b[0m\u001b[0;34m=\u001b[0m\u001b[0mname\u001b[0m\u001b[0;34m)\u001b[0m\u001b[0;34m\u001b[0m\u001b[0m\n\u001b[0m",
      "\u001b[0;32m/opt/conda/lib/python3.5/site-packages/datarobot/models/project.py\u001b[0m in \u001b[0;36mstart\u001b[0;34m(cls, sourcedata, target, project_name, worker_count, metric, autopilot_on, blueprint_threshold, response_cap, partitioning_method, positive_class)\u001b[0m\n\u001b[1;32m    705\u001b[0m             \u001b[0madvanced_options\u001b[0m\u001b[0;34m=\u001b[0m\u001b[0madvanced_options\u001b[0m\u001b[0;34m,\u001b[0m\u001b[0;34m\u001b[0m\u001b[0m\n\u001b[1;32m    706\u001b[0m             \u001b[0mpartitioning_method\u001b[0m\u001b[0;34m=\u001b[0m\u001b[0mpartitioning_method\u001b[0m\u001b[0;34m,\u001b[0m\u001b[0;34m\u001b[0m\u001b[0m\n\u001b[0;32m--> 707\u001b[0;31m             positive_class=positive_class)\n\u001b[0m\u001b[1;32m    708\u001b[0m         \u001b[0;32mreturn\u001b[0m \u001b[0mproject\u001b[0m\u001b[0;34m\u001b[0m\u001b[0m\n\u001b[1;32m    709\u001b[0m \u001b[0;34m\u001b[0m\u001b[0m\n",
      "\u001b[0;32m/opt/conda/lib/python3.5/site-packages/datarobot/models/project.py\u001b[0m in \u001b[0;36mset_target\u001b[0;34m(self, target, mode, metric, quickrun, worker_count, positive_class, partitioning_method, featurelist_id, advanced_options, max_wait)\u001b[0m\n\u001b[1;32m    956\u001b[0m             \u001b[0mself\u001b[0m\u001b[0;34m.\u001b[0m\u001b[0m_load_partitioning_method\u001b[0m\u001b[0;34m(\u001b[0m\u001b[0mpartitioning_method\u001b[0m\u001b[0;34m,\u001b[0m \u001b[0maim_payload\u001b[0m\u001b[0;34m)\u001b[0m\u001b[0;34m\u001b[0m\u001b[0m\n\u001b[1;32m    957\u001b[0m         \u001b[0murl\u001b[0m \u001b[0;34m=\u001b[0m \u001b[0;34m'{}{}/aim/'\u001b[0m\u001b[0;34m.\u001b[0m\u001b[0mformat\u001b[0m\u001b[0;34m(\u001b[0m\u001b[0mself\u001b[0m\u001b[0;34m.\u001b[0m\u001b[0m_path\u001b[0m\u001b[0;34m,\u001b[0m \u001b[0mself\u001b[0m\u001b[0;34m.\u001b[0m\u001b[0mid\u001b[0m\u001b[0;34m)\u001b[0m\u001b[0;34m\u001b[0m\u001b[0m\n\u001b[0;32m--> 958\u001b[0;31m         \u001b[0mresponse\u001b[0m \u001b[0;34m=\u001b[0m \u001b[0mself\u001b[0m\u001b[0;34m.\u001b[0m\u001b[0m_client\u001b[0m\u001b[0;34m.\u001b[0m\u001b[0mpatch\u001b[0m\u001b[0;34m(\u001b[0m\u001b[0murl\u001b[0m\u001b[0;34m,\u001b[0m \u001b[0mdata\u001b[0m\u001b[0;34m=\u001b[0m\u001b[0maim_payload\u001b[0m\u001b[0;34m)\u001b[0m\u001b[0;34m\u001b[0m\u001b[0m\n\u001b[0m\u001b[1;32m    959\u001b[0m         \u001b[0masync_location\u001b[0m \u001b[0;34m=\u001b[0m \u001b[0mresponse\u001b[0m\u001b[0;34m.\u001b[0m\u001b[0mheaders\u001b[0m\u001b[0;34m[\u001b[0m\u001b[0;34m'Location'\u001b[0m\u001b[0;34m]\u001b[0m\u001b[0;34m\u001b[0m\u001b[0m\n\u001b[1;32m    960\u001b[0m \u001b[0;34m\u001b[0m\u001b[0m\n",
      "\u001b[0;32m/opt/conda/lib/python3.5/site-packages/datarobot/rest.py\u001b[0m in \u001b[0;36mpatch\u001b[0;34m(self, url, data, **kwargs)\u001b[0m\n\u001b[1;32m     81\u001b[0m         \u001b[0;32mif\u001b[0m \u001b[0mdata\u001b[0m\u001b[0;34m:\u001b[0m\u001b[0;34m\u001b[0m\u001b[0m\n\u001b[1;32m     82\u001b[0m             \u001b[0mkwargs\u001b[0m\u001b[0;34m[\u001b[0m\u001b[0;34m'json'\u001b[0m\u001b[0;34m]\u001b[0m \u001b[0;34m=\u001b[0m \u001b[0mto_api\u001b[0m\u001b[0;34m(\u001b[0m\u001b[0mdata\u001b[0m\u001b[0;34m)\u001b[0m\u001b[0;34m\u001b[0m\u001b[0m\n\u001b[0;32m---> 83\u001b[0;31m         \u001b[0;32mreturn\u001b[0m \u001b[0mself\u001b[0m\u001b[0;34m.\u001b[0m\u001b[0mrequest\u001b[0m\u001b[0;34m(\u001b[0m\u001b[0;34m'patch'\u001b[0m\u001b[0;34m,\u001b[0m \u001b[0murl\u001b[0m\u001b[0;34m,\u001b[0m \u001b[0;34m**\u001b[0m\u001b[0mkwargs\u001b[0m\u001b[0;34m)\u001b[0m\u001b[0;34m\u001b[0m\u001b[0m\n\u001b[0m\u001b[1;32m     84\u001b[0m \u001b[0;34m\u001b[0m\u001b[0m\n\u001b[1;32m     85\u001b[0m     def build_request_with_file(self, method, url,\n",
      "\u001b[0;32m/opt/conda/lib/python3.5/site-packages/datarobot/rest.py\u001b[0m in \u001b[0;36mrequest\u001b[0;34m(self, method, url, join_endpoint, **kwargs)\u001b[0m\n\u001b[1;32m     67\u001b[0m         \u001b[0mresponse\u001b[0m \u001b[0;34m=\u001b[0m \u001b[0msuper\u001b[0m\u001b[0;34m(\u001b[0m\u001b[0mRESTClientObject\u001b[0m\u001b[0;34m,\u001b[0m \u001b[0mself\u001b[0m\u001b[0;34m)\u001b[0m\u001b[0;34m.\u001b[0m\u001b[0mrequest\u001b[0m\u001b[0;34m(\u001b[0m\u001b[0mmethod\u001b[0m\u001b[0;34m,\u001b[0m \u001b[0murl\u001b[0m\u001b[0;34m,\u001b[0m \u001b[0;34m**\u001b[0m\u001b[0mkwargs\u001b[0m\u001b[0;34m)\u001b[0m\u001b[0;34m\u001b[0m\u001b[0m\n\u001b[1;32m     68\u001b[0m         \u001b[0;32mif\u001b[0m \u001b[0;32mnot\u001b[0m \u001b[0mresponse\u001b[0m\u001b[0;34m:\u001b[0m\u001b[0;34m\u001b[0m\u001b[0m\n\u001b[0;32m---> 69\u001b[0;31m             \u001b[0mhandle_http_error\u001b[0m\u001b[0;34m(\u001b[0m\u001b[0mresponse\u001b[0m\u001b[0;34m)\u001b[0m\u001b[0;34m\u001b[0m\u001b[0m\n\u001b[0m\u001b[1;32m     70\u001b[0m         \u001b[0;32mreturn\u001b[0m \u001b[0mresponse\u001b[0m\u001b[0;34m\u001b[0m\u001b[0m\n\u001b[1;32m     71\u001b[0m \u001b[0;34m\u001b[0m\u001b[0m\n",
      "\u001b[0;32m/opt/conda/lib/python3.5/site-packages/datarobot/rest.py\u001b[0m in \u001b[0;36mhandle_http_error\u001b[0;34m(response)\u001b[0m\n\u001b[1;32m    182\u001b[0m         \u001b[0mtemplate\u001b[0m \u001b[0;34m=\u001b[0m \u001b[0;34m'{} client error: {}'\u001b[0m\u001b[0;34m\u001b[0m\u001b[0m\n\u001b[1;32m    183\u001b[0m         \u001b[0mexc_message\u001b[0m \u001b[0;34m=\u001b[0m \u001b[0mtemplate\u001b[0m\u001b[0;34m.\u001b[0m\u001b[0mformat\u001b[0m\u001b[0;34m(\u001b[0m\u001b[0mresponse\u001b[0m\u001b[0;34m.\u001b[0m\u001b[0mstatus_code\u001b[0m\u001b[0;34m,\u001b[0m \u001b[0mmessage\u001b[0m\u001b[0;34m)\u001b[0m\u001b[0;34m\u001b[0m\u001b[0m\n\u001b[0;32m--> 184\u001b[0;31m         \u001b[0;32mraise\u001b[0m \u001b[0mexception_type\u001b[0m\u001b[0;34m(\u001b[0m\u001b[0mexc_message\u001b[0m\u001b[0;34m,\u001b[0m \u001b[0mresponse\u001b[0m\u001b[0;34m.\u001b[0m\u001b[0mstatus_code\u001b[0m\u001b[0;34m)\u001b[0m\u001b[0;34m\u001b[0m\u001b[0m\n\u001b[0m\u001b[1;32m    185\u001b[0m     \u001b[0;32melse\u001b[0m\u001b[0;34m:\u001b[0m\u001b[0;34m\u001b[0m\u001b[0m\n\u001b[1;32m    186\u001b[0m         \u001b[0mtemplate\u001b[0m \u001b[0;34m=\u001b[0m \u001b[0;34m'{} server error: {}'\u001b[0m\u001b[0;34m\u001b[0m\u001b[0m\n",
      "\u001b[0;31mClientError\u001b[0m: 422 client error: {'errors': {'target': 'is required'}, 'message': 'Invalid field data'}"
     ]
    }
   ],
   "source": [
    "file = \"../../data/dr_potholes_{}hrs.csv\".format(24)\n",
    "name =\"PotholeFixer_{}hrs_old\".format(24)\n",
    "print(file)\n",
    "print(name)\n",
    "p2 = dr.Project.start(file, \"fast_fix\", project_name=name)"
   ]
  },
  {
   "cell_type": "code",
   "execution_count": 29,
   "metadata": {},
   "outputs": [
    {
     "data": {
      "text/plain": [
       "[Feature(neighborhood),\n",
       " Feature(CASE_ENQUIRY_ID),\n",
       " Feature(LOCATION_ZIPCODE),\n",
       " Feature(QUEUE),\n",
       " Feature(Source),\n",
       " Feature(Location),\n",
       " Feature(city_council_district),\n",
       " Feature(Department),\n",
       " Feature(OPEN_DT (Year)),\n",
       " Feature(ward),\n",
       " Feature(LOCATION_STREET_NAME),\n",
       " Feature(neighborhood_services_district),\n",
       " Feature(Unnamed: 0),\n",
       " Feature(OPEN_DT (Day of Month)),\n",
       " Feature(OnTime_Status),\n",
       " Feature(fast_fix),\n",
       " Feature(police_district),\n",
       " Feature(CASE_TITLE),\n",
       " Feature(OPEN_DT (Day of Week)),\n",
       " Feature(OPEN_DT),\n",
       " Feature(REASON),\n",
       " Feature(precinct),\n",
       " Feature(pwd_district),\n",
       " Feature(TYPE),\n",
       " Feature(OPEN_DT (Month)),\n",
       " Feature(fire_district),\n",
       " Feature(SUBJECT)]"
      ]
     },
     "execution_count": 29,
     "metadata": {},
     "output_type": "execute_result"
    }
   ],
   "source": [
    "p2.get_features()"
   ]
  },
  {
   "cell_type": "code",
   "execution_count": 40,
   "metadata": {},
   "outputs": [],
   "source": [
    "p2.get_featurelists()[0].id\n",
    "p2.start?\n"
   ]
  },
  {
   "cell_type": "code",
   "execution_count": null,
   "metadata": {
    "collapsed": true
   },
   "outputs": [],
   "source": []
  }
 ],
 "metadata": {
  "kernelspec": {
   "display_name": "Python 3",
   "language": "python",
   "name": "python3"
  },
  "language_info": {
   "codemirror_mode": {
    "name": "ipython",
    "version": 3
   },
   "file_extension": ".py",
   "mimetype": "text/x-python",
   "name": "python",
   "nbconvert_exporter": "python",
   "pygments_lexer": "ipython3",
   "version": "3.5.2"
  }
 },
 "nbformat": 4,
 "nbformat_minor": 2
}
