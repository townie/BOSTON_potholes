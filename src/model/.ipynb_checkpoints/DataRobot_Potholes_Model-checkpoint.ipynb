{
 "cells": [
  {
   "cell_type": "markdown",
   "metadata": {},
   "source": [
    "# DataRobot_Potholes_Model\n",
    "\n",
    "Boston Pothole age predictor"
   ]
  },
  {
   "cell_type": "code",
   "execution_count": 1,
   "metadata": {
    "collapsed": true
   },
   "outputs": [],
   "source": [
    "import pandas as pd\n",
    "import pandas_profiling as pdp\n",
    "import matplotlib\n",
    "import matplotlib.pyplot as plt\n",
    "\n",
    "%matplotlib inline"
   ]
  },
  {
   "cell_type": "code",
   "execution_count": 2,
   "metadata": {
    "collapsed": true
   },
   "outputs": [],
   "source": [
    "df = pd.read_csv(\"../../data/311__Service_Requests.csv\", parse_dates=True, encoding='UTF-8', infer_datetime_format=True)\n",
    "print('Loaded 311 Service Requests RAW')\n",
    "print(potdf.shape)\n"
   ]
  },
  {
   "cell_type": "code",
   "execution_count": 9,
   "metadata": {},
   "outputs": [
    {
     "name": "stdout",
     "output_type": "stream",
     "text": [
      "(77677, 33)\n",
      "   CASE_ENQUIRY_ID                 OPEN_DT               TARGET_DT  \\\n",
      "0     101000493034  10/16/2012 02:45:25 PM  10/18/2012 02:45:24 PM   \n",
      "\n",
      "                CLOSED_DT OnTime_Status CASE_STATUS CLOSURE_REASON  \\\n",
      "0  10/17/2012 07:36:59 AM        ONTIME      Closed  Case Resolved   \n",
      "\n",
      "        CASE_TITLE                  SUBJECT     REASON        ...         \\\n",
      "0  Sticker Request  Public Works Department  Recycling        ...          \n",
      "\n",
      "  precinct land_usage LOCATION_STREET_NAME LOCATION_ZIPCODE Property_Type  \\\n",
      "0     1602        NaN           36 Park St           2122.0           NaN   \n",
      "\n",
      "  Property_ID  LATITUDE LONGITUDE        Source Geocoded_Location  \n",
      "0         NaN   42.3011  -71.0543  Self Service               NaN  \n",
      "\n",
      "[1 rows x 33 columns]\n"
     ]
    }
   ],
   "source": [
    "print(df.head(1))"
   ]
  },
  {
   "cell_type": "code",
   "execution_count": 5,
   "metadata": {
    "collapsed": true
   },
   "outputs": [],
   "source": [
    "# Find the PotHoles \n",
    "potdf = df.loc[df['TYPE'].str.contains('Pot')]"
   ]
  },
  {
   "cell_type": "code",
   "execution_count": 7,
   "metadata": {},
   "outputs": [
    {
     "data": {
      "text/plain": [
       "(77677, 33)"
      ]
     },
     "execution_count": 7,
     "metadata": {},
     "output_type": "execute_result"
    }
   ],
   "source": [
    "potdf.shape"
   ]
  },
  {
   "cell_type": "code",
   "execution_count": null,
   "metadata": {
    "collapsed": true
   },
   "outputs": [],
   "source": []
  }
 ],
 "metadata": {
  "kernelspec": {
   "display_name": "Python 3",
   "language": "python",
   "name": "python3"
  },
  "language_info": {
   "codemirror_mode": {
    "name": "ipython",
    "version": 3
   },
   "file_extension": ".py",
   "mimetype": "text/x-python",
   "name": "python",
   "nbconvert_exporter": "python",
   "pygments_lexer": "ipython3",
   "version": "3.5.2"
  }
 },
 "nbformat": 4,
 "nbformat_minor": 2
}
