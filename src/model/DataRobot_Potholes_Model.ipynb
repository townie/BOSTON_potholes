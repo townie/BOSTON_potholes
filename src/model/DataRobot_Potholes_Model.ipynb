{
 "cells": [
  {
   "cell_type": "markdown",
   "metadata": {},
   "source": [
    "# Boston_Potholes_DataRobot_Model\n",
    "\n",
    "Boston Pothole age predictor"
   ]
  },
  {
   "cell_type": "code",
   "execution_count": 1,
   "metadata": {},
   "outputs": [
    {
     "name": "stdout",
     "output_type": "stream",
     "text": [
      "Requirement already satisfied (use --upgrade to upgrade): datarobot in /opt/conda/lib/python3.5/site-packages\n",
      "Requirement already satisfied (use --upgrade to upgrade): pandas>=0.15 in /opt/conda/lib/python3.5/site-packages (from datarobot)\n",
      "Requirement already satisfied (use --upgrade to upgrade): requests-toolbelt>=0.6 in /opt/conda/lib/python3.5/site-packages (from datarobot)\n",
      "Requirement already satisfied (use --upgrade to upgrade): trafaret>=0.7 in /opt/conda/lib/python3.5/site-packages (from datarobot)\n",
      "Requirement already satisfied (use --upgrade to upgrade): pyyaml>=3.11 in /opt/conda/lib/python3.5/site-packages (from datarobot)\n",
      "Requirement already satisfied (use --upgrade to upgrade): python-dateutil>=2 in /opt/conda/lib/python3.5/site-packages (from pandas>=0.15->datarobot)\n",
      "Requirement already satisfied (use --upgrade to upgrade): pytz>=2011k in /opt/conda/lib/python3.5/site-packages (from pandas>=0.15->datarobot)\n",
      "Requirement already satisfied (use --upgrade to upgrade): numpy>=1.7.0 in /opt/conda/lib/python3.5/site-packages (from pandas>=0.15->datarobot)\n",
      "Requirement already satisfied (use --upgrade to upgrade): requests<3.0.0,>=2.0.1 in /opt/conda/lib/python3.5/site-packages (from requests-toolbelt>=0.6->datarobot)\n",
      "Requirement already satisfied (use --upgrade to upgrade): six>=1.5 in /opt/conda/lib/python3.5/site-packages (from python-dateutil>=2->pandas>=0.15->datarobot)\n",
      "\u001b[33mYou are using pip version 8.1.2, however version 9.0.1 is available.\n",
      "You should consider upgrading via the 'pip install --upgrade pip' command.\u001b[0m\n"
     ]
    }
   ],
   "source": [
    "!pip install datarobot"
   ]
  },
  {
   "cell_type": "code",
   "execution_count": 2,
   "metadata": {
    "collapsed": true
   },
   "outputs": [],
   "source": [
    "import pandas as pd\n",
    "import pandas_profiling as pdp\n",
    "import matplotlib\n",
    "import matplotlib.pyplot as plt\n",
    "\n",
    "%matplotlib inline"
   ]
  },
  {
   "cell_type": "code",
   "execution_count": 3,
   "metadata": {},
   "outputs": [
    {
     "name": "stdout",
     "output_type": "stream",
     "text": [
      "Loaded 311 Service Requests RAW\n",
      "(Rows,Columns):(973993, 33)\n"
     ]
    }
   ],
   "source": [
    "df = pd.read_csv(\"../../data/311__Service_Requests.csv\", parse_dates=True, encoding='UTF-8', infer_datetime_format=True)\n",
    "print('Loaded 311 Service Requests RAW')\n",
    "print('(Rows,Columns):{}'.format(df.shape))"
   ]
  },
  {
   "cell_type": "code",
   "execution_count": 4,
   "metadata": {},
   "outputs": [
    {
     "data": {
      "text/html": [
       "<div>\n",
       "<table border=\"1\" class=\"dataframe\">\n",
       "  <thead>\n",
       "    <tr style=\"text-align: right;\">\n",
       "      <th></th>\n",
       "      <th>CASE_ENQUIRY_ID</th>\n",
       "      <th>OPEN_DT</th>\n",
       "      <th>TARGET_DT</th>\n",
       "      <th>CLOSED_DT</th>\n",
       "      <th>OnTime_Status</th>\n",
       "      <th>CASE_STATUS</th>\n",
       "      <th>CLOSURE_REASON</th>\n",
       "      <th>CASE_TITLE</th>\n",
       "      <th>SUBJECT</th>\n",
       "      <th>REASON</th>\n",
       "      <th>...</th>\n",
       "      <th>precinct</th>\n",
       "      <th>land_usage</th>\n",
       "      <th>LOCATION_STREET_NAME</th>\n",
       "      <th>LOCATION_ZIPCODE</th>\n",
       "      <th>Property_Type</th>\n",
       "      <th>Property_ID</th>\n",
       "      <th>LATITUDE</th>\n",
       "      <th>LONGITUDE</th>\n",
       "      <th>Source</th>\n",
       "      <th>Geocoded_Location</th>\n",
       "    </tr>\n",
       "  </thead>\n",
       "  <tbody>\n",
       "    <tr>\n",
       "      <th>0</th>\n",
       "      <td>101000493034</td>\n",
       "      <td>10/16/2012 02:45:25 PM</td>\n",
       "      <td>10/18/2012 02:45:24 PM</td>\n",
       "      <td>10/17/2012 07:36:59 AM</td>\n",
       "      <td>ONTIME</td>\n",
       "      <td>Closed</td>\n",
       "      <td>Case Resolved</td>\n",
       "      <td>Sticker Request</td>\n",
       "      <td>Public Works Department</td>\n",
       "      <td>Recycling</td>\n",
       "      <td>...</td>\n",
       "      <td>1602</td>\n",
       "      <td>NaN</td>\n",
       "      <td>36 Park St</td>\n",
       "      <td>2122.0</td>\n",
       "      <td>NaN</td>\n",
       "      <td>NaN</td>\n",
       "      <td>42.3011</td>\n",
       "      <td>-71.0543</td>\n",
       "      <td>Self Service</td>\n",
       "      <td>NaN</td>\n",
       "    </tr>\n",
       "  </tbody>\n",
       "</table>\n",
       "<p>1 rows × 33 columns</p>\n",
       "</div>"
      ],
      "text/plain": [
       "   CASE_ENQUIRY_ID                 OPEN_DT               TARGET_DT  \\\n",
       "0     101000493034  10/16/2012 02:45:25 PM  10/18/2012 02:45:24 PM   \n",
       "\n",
       "                CLOSED_DT OnTime_Status CASE_STATUS CLOSURE_REASON  \\\n",
       "0  10/17/2012 07:36:59 AM        ONTIME      Closed  Case Resolved   \n",
       "\n",
       "        CASE_TITLE                  SUBJECT     REASON        ...         \\\n",
       "0  Sticker Request  Public Works Department  Recycling        ...          \n",
       "\n",
       "  precinct land_usage LOCATION_STREET_NAME LOCATION_ZIPCODE Property_Type  \\\n",
       "0     1602        NaN           36 Park St           2122.0           NaN   \n",
       "\n",
       "  Property_ID  LATITUDE LONGITUDE        Source Geocoded_Location  \n",
       "0         NaN   42.3011  -71.0543  Self Service               NaN  \n",
       "\n",
       "[1 rows x 33 columns]"
      ]
     },
     "execution_count": 4,
     "metadata": {},
     "output_type": "execute_result"
    }
   ],
   "source": [
    "df.head(1)"
   ]
  },
  {
   "cell_type": "code",
   "execution_count": 5,
   "metadata": {},
   "outputs": [
    {
     "data": {
      "text/plain": [
       "(77677, 33)"
      ]
     },
     "execution_count": 5,
     "metadata": {},
     "output_type": "execute_result"
    }
   ],
   "source": [
    "# Find the PotHoles \n",
    "potdf = df.loc[df['TYPE'].str.contains('Pot')]\n",
    "potdf.shape"
   ]
  },
  {
   "cell_type": "code",
   "execution_count": 6,
   "metadata": {
    "collapsed": true
   },
   "outputs": [],
   "source": [
    "non_employee_source = ['Citizens Connect App', 'Constituent Call', 'Self Service', 'Twitter']\n",
    "\n",
    "# Fixed Potholes Data Parsing for Citizens\n",
    "drdf = potdf.loc[(potdf['Source'].isin(non_employee_source)) ]\n",
    "\n"
   ]
  },
  {
   "cell_type": "code",
   "execution_count": 7,
   "metadata": {},
   "outputs": [
    {
     "data": {
      "text/plain": [
       "(18804, 22)"
      ]
     },
     "execution_count": 7,
     "metadata": {},
     "output_type": "execute_result"
    }
   ],
   "source": [
    "# Drop Unused Data Columns\n",
    "drdf= drdf.drop('TARGET_DT', 1,errors='ignore')\n",
    "drdf= drdf.drop('expected_age', 1,errors='ignore')\n",
    "drdf= drdf.drop('SubmittedPhoto', 1,errors='ignore')\n",
    "drdf= drdf.drop('ClosedPhoto', 1,errors='ignore') # cleaned_df['ClosedPhoto'][147]\n",
    "drdf= drdf.drop('age_in_days', 1,errors='ignore') # cleaned_df['ClosedPhoto'][147]\n",
    "drdf= drdf.drop('land_usage', 1,errors='ignore')\n",
    "drdf= drdf.drop('Property_Type', 1,errors='ignore')\n",
    "drdf= drdf.drop('Property_ID', 1,errors='ignore')\n",
    "drdf= drdf.drop('age', 1,errors='ignore')\n",
    "drdf= drdf.drop('performance', 1,errors='ignore')\n",
    "drdf= drdf.drop('LATITUDE', 1,errors='ignore')\n",
    "drdf= drdf.drop('LONGITUDE', 1,errors='ignore')\n",
    "drdf= drdf.drop('Geocoded_Location', 1,errors='ignore')\n",
    "\n",
    "non_employee_source = ['Citizens Connect App','Constituent Call', 'Self Service', 'Twitter']\n",
    "drdf = drdf.loc[(potdf['CASE_STATUS'] == 'Closed' ) &(potdf['Source'].isin(non_employee_source)) ]\n",
    "drdf = drdf.drop('CLOSURE_REASON',1,errors='ignore')\n",
    "\n",
    "drdf= drdf.drop('CASE_STATUS', 1, errors='ignore') #we dont need this anymore\n",
    "drdf.shape"
   ]
  },
  {
   "cell_type": "code",
   "execution_count": 8,
   "metadata": {},
   "outputs": [
    {
     "name": "stderr",
     "output_type": "stream",
     "text": [
      "/opt/conda/lib/python3.5/site-packages/ipykernel_launcher.py:9: SettingWithCopyWarning: \n",
      "A value is trying to be set on a copy of a slice from a DataFrame.\n",
      "Try using .loc[row_indexer,col_indexer] = value instead\n",
      "\n",
      "See the caveats in the documentation: http://pandas.pydata.org/pandas-docs/stable/indexing.html#indexing-view-versus-copy\n",
      "  if __name__ == '__main__':\n"
     ]
    }
   ],
   "source": [
    "# Compute Age\n",
    "\n",
    "def get_closed_age(df):\n",
    "    return pd.to_datetime(df['CLOSED_DT']) - pd.to_datetime(df['OPEN_DT'])\n",
    "\n",
    "def get_todays_age(df):\n",
    "    return pd.to_datetime(df['CLOSED_DT']) - pd.to_datetime(df['OPEN_DT'])\n",
    "\n",
    "potdf['age'] = get_closed_age(df)\n",
    "\n",
    "drdf= drdf.drop('CLOSED_DT', 1,errors='ignore')\n"
   ]
  },
  {
   "cell_type": "code",
   "execution_count": 9,
   "metadata": {
    "collapsed": true
   },
   "outputs": [],
   "source": [
    "# Make Label\n",
    "\n",
    "closedpotdf = potdf['age']\n",
    "drdf['age_in_days'] = closedpotdf.apply(lambda x: x.days if isinstance(x, pd.Timedelta) else 0)\n",
    "drdf['age_in_days'] = drdf['age_in_days'] #.dropna()# potdf['expected_age']\n",
    "\n",
    "drdf['age_in_hours'] = closedpotdf.apply(lambda x: int(x.to_pytimedelta().total_seconds() /60 /60 ) if isinstance(x, pd.Timedelta) else 0)\n",
    "drdf['age_in_hours'] = drdf['age_in_hours'] #.dropna()# potdf['expected_age']"
   ]
  },
  {
   "cell_type": "code",
   "execution_count": 10,
   "metadata": {},
   "outputs": [],
   "source": [
    "drdf = drdf.loc[(potdf['CASE_STATUS'] == 'Closed' )] # filter out closed"
   ]
  },
  {
   "cell_type": "code",
   "execution_count": 11,
   "metadata": {
    "collapsed": true
   },
   "outputs": [],
   "source": [
    "# Regression: Age in Hours Label\n",
    "\n",
    "drdfHours = drdf.loc[(potdf['CASE_STATUS'] == 'Closed' )] # filter out closed\n",
    "drdf.head(10)\n",
    "drdf.to_csv('../../data/dr_potholes_hours.csv')"
   ]
  },
  {
   "cell_type": "code",
   "execution_count": 12,
   "metadata": {
    "collapsed": true
   },
   "outputs": [],
   "source": [
    "# Binary Age Classifier (24, 48, 72, 168 hours old)\n",
    "\n",
    "drdrAgeLabel = drdf.loc[(potdf['CASE_STATUS'] == 'Closed' )] # filter out closed\n",
    "drdrAgeLabel= drdrAgeLabel.drop('age_in_hours', 1,errors='ignore')\n",
    "drdrAgeLabel= drdrAgeLabel.drop('age', 1,errors='ignore')\n",
    "\n",
    "age_thresholds = [24, 48, 72, 168]\n",
    "\n",
    "for thresholds in age_thresholds:\n",
    "    drdrAgeLabel['fast_fix'] = drdf['age_in_hours'] <= thresholds\n",
    "    drdrAgeLabel.to_csv('../../data/dr_potholes_{}hrs.csv'.format(thresholds))"
   ]
  },
  {
   "cell_type": "code",
   "execution_count": null,
   "metadata": {
    "collapsed": true
   },
   "outputs": [],
   "source": []
  }
 ],
 "metadata": {
  "kernelspec": {
   "display_name": "Python 3",
   "language": "python",
   "name": "python3"
  },
  "language_info": {
   "codemirror_mode": {
    "name": "ipython",
    "version": 3
   },
   "file_extension": ".py",
   "mimetype": "text/x-python",
   "name": "python",
   "nbconvert_exporter": "python",
   "pygments_lexer": "ipython3",
   "version": "3.5.2"
  }
 },
 "nbformat": 4,
 "nbformat_minor": 2
}
